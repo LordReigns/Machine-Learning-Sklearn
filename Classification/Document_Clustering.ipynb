{
 "cells": [
  {
   "cell_type": "code",
   "execution_count": 58,
   "metadata": {},
   "outputs": [],
   "source": [
    "import pandas as pd\n",
    "import numpy as np\n",
    "import matplotlib.pyplot as plt"
   ]
  },
  {
   "cell_type": "code",
   "execution_count": 59,
   "metadata": {
    "scrolled": true
   },
   "outputs": [],
   "source": [
    "df = pd.read_csv('datasets/movies_plot.csv')\n",
    "# df.head()"
   ]
  },
  {
   "cell_type": "code",
   "execution_count": 60,
   "metadata": {},
   "outputs": [],
   "source": [
    "# clean data (remove punctuations, emoticons and words like 'the ,is, are')\n",
    "from nltk.tokenize import word_tokenize\n",
    "import nltk\n",
    "\n",
    "import re\n",
    "\n",
    "def remove_noise(text, stop_words=[]):\n",
    "    tokens = word_tokenize(text)\n",
    "    cleaned_tokens = []\n",
    "    for token in tokens:\n",
    "        token = re.sub('[^A-Za-z0-9]+','', token)\n",
    "        if (len(token) > 1 and token.lower() not in stop_words):\n",
    "            cleaned_tokens.append(token.lower())\n",
    "    return cleaned_tokens"
   ]
  },
  {
   "cell_type": "code",
   "execution_count": 61,
   "metadata": {},
   "outputs": [],
   "source": [
    "# create document term matrix\n",
    "from sklearn.feature_extraction.text import TfidfVectorizer\n",
    "\n",
    "plots = df['Plot'].tolist()\n",
    "tfidf_vectorizer = TfidfVectorizer(max_df = 0.8, min_df = 0.1, max_features=50, stop_words='english', tokenizer=remove_noise)\n",
    "tfidf_matrix = tfidf_vectorizer.fit_transform(plots)\n",
    "# stop words parameter removes generally grammatical filler words like his, her, the etc"
   ]
  },
  {
   "cell_type": "code",
   "execution_count": 62,
   "metadata": {},
   "outputs": [
    {
     "name": "stdout",
     "output_type": "stream",
     "text": [
      "['film', 'life', 'new', 'family', 'father', 'wife', 'killed', 'time', 'later', 'begins', 'love', 'help', 'friend', 'day', 'man', 'home', 'mother', 'men', 'goes', 'daughter', 'house', 'money', 'police', 'young', 'tells', 'make', 'takes', 'finds', 'tries', 'having', 'does', 'friends', 'just', 'away', 'leaves', 'death', 'gets', 'kill', 'night', 'school', 'leave', 'returns', 'escape', 'decides', 'nt', 'asks', 'way', 'john', 'town', 'car']\n"
     ]
    }
   ],
   "source": [
    "from scipy.cluster.vq import kmeans\n",
    "# printing top terms in each cluster\n",
    "num_clusters = 2\n",
    "cluster_centers, _ = kmeans(tfidf_matrix.todense(), num_clusters)\n",
    "terms = tfidf_vectorizer.get_feature_names()\n",
    "for i in range(num_clusters):\n",
    "    center_terms = dict(zip(terms, list(cluster_centers[i])))\n",
    "    sorted_terms = sorted(center_terms, key=center_terms.get, reverse=True)\n",
    "print(sorted_terms)"
   ]
  }
 ],
 "metadata": {
  "kernelspec": {
   "display_name": "Python 3",
   "language": "python",
   "name": "python3"
  },
  "language_info": {
   "codemirror_mode": {
    "name": "ipython",
    "version": 3
   },
   "file_extension": ".py",
   "mimetype": "text/x-python",
   "name": "python",
   "nbconvert_exporter": "python",
   "pygments_lexer": "ipython3",
   "version": "3.8.5"
  }
 },
 "nbformat": 4,
 "nbformat_minor": 4
}
